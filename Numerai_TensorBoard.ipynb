{
 "cells": [
  {
   "cell_type": "code",
   "execution_count": 7,
   "metadata": {
    "collapsed": true
   },
   "outputs": [],
   "source": [
    "from __future__ import print_function\n",
    "import numpy as np\n",
    "import tensorflow as tf\n",
    "import csv\n",
    "\n",
    "\n"
   ]
  },
  {
   "cell_type": "code",
   "execution_count": 8,
   "metadata": {
    "collapsed": false
   },
   "outputs": [
    {
     "name": "stdout",
     "output_type": "stream",
     "text": [
      "[['feature1', 'feature2', 'feature3', 'feature4', 'feature5', 'feature6', 'feature7', 'feature8', 'feature9', 'feature10', 'feature11', 'feature12', 'feature13', 'feature14', 'feature15', 'feature16', 'feature17', 'feature18', 'feature19', 'feature20', 'feature21', 'target'], ['0.943745447280042', '0.401440492760393', '0.0524591961080846', '0.251755752856205', '0.599198006133435', '0.433078735492905', '0.154291986680751', '0.92162389945005', '0.0896378616524796', '0.117733463237376', '0.250726083709401', '0.0780808964926594', '0.823646376733102', '0.196164109166281', '0.712755076070547', '0.867629792388402', '0.409075454411293', '0.307076282705858', '0.949682259112273', '0.607615748394229', '0.41754724196422', '1']]\n"
     ]
    }
   ],
   "source": [
    "csv_file = 'numerai_training_data.csv'\n",
    "\n",
    "\n",
    "with open(csv_file, 'r') as f:\n",
    "  save = csv.reader(f, delimiter = ',')\n",
    "  raw_data = list(save)\n",
    "print (raw_data[:2])"
   ]
  },
  {
   "cell_type": "code",
   "execution_count": 9,
   "metadata": {
    "collapsed": false
   },
   "outputs": [
    {
     "name": "stdout",
     "output_type": "stream",
     "text": [
      "[['0.943745447280042' '0.401440492760393' '0.0524591961080846'\n",
      "  '0.251755752856205' '0.599198006133435' '0.433078735492905'\n",
      "  '0.154291986680751' '0.92162389945005' '0.0896378616524796'\n",
      "  '0.117733463237376' '0.250726083709401' '0.0780808964926594'\n",
      "  '0.823646376733102' '0.196164109166281' '0.712755076070547'\n",
      "  '0.867629792388402' '0.409075454411293' '0.307076282705858'\n",
      "  '0.949682259112273' '0.607615748394229' '0.41754724196422']\n",
      " ['0.929175420930546' '0.863270430663643' '0.905305967406711'\n",
      "  '0.698716557139708' '0.416503151341583' '0.770083788853883'\n",
      "  '0.626187725493307' '0.738225125354333' '0.568634535735404'\n",
      "  '0.675988513231958' '0.807240649717194' '0.700287609753836'\n",
      "  '0.810102723879884' '0.784314476627852' '0.614978703187966'\n",
      "  '0.598660342127264' '0.314625186603813' '0.977315200841722'\n",
      "  '0.711696849396431' '0.304693361949859' '0.768249892077801']]\n",
      "['1' '0' '0' '0' '0' '0' '0' '0' '1' '1' '1' '1']\n",
      "[2 1 1 1 1 1 1 1 2 2 2 2]\n",
      "(96320, 21)\n",
      "(96320,)\n"
     ]
    }
   ],
   "source": [
    "data = np.delete(raw_data, (0), axis=0)\n",
    "\n",
    "x = np.delete(data, (-1), axis=1)\n",
    "# x2 = list(map(int, x1))\n",
    "print (x[:2])\n",
    "y= data[:,-1]\n",
    "print (y[:12])\n",
    "y1 = list(map(int, y))\n",
    "y1[:] = [n + 1 for n in y1]\n",
    "y = np.array(y1)\n",
    "\n",
    "print (y[:12])\n",
    "print (x.shape)\n",
    "print (y.shape)\n"
   ]
  },
  {
   "cell_type": "code",
   "execution_count": 10,
   "metadata": {
    "collapsed": false
   },
   "outputs": [
    {
     "name": "stdout",
     "output_type": "stream",
     "text": [
      "(67424, 21)\n",
      "(19263, 21)\n",
      "(67424,)\n",
      "(19263,)\n"
     ]
    }
   ],
   "source": [
    "x_train = x[:int(x.shape[0] * 0.7)]\n",
    "x_validate = x[int(x.shape[0] * 0.7) + 1: int(x.shape[0] * 0.9)]\n",
    "x_test = x[int(x.shape[0] * 0.9) + 1:]\n",
    "print (x_train.shape)\n",
    "print (x_validate.shape)\n",
    "\n",
    "y_train = y[:int(y.shape[0] * 0.7)]\n",
    "y_validate = y[int(y.shape[0] * 0.7) + 1: int(y.shape[0] * 0.9)]\n",
    "y_test = y[int(y.shape[0] * 0.9) + 1:]\n",
    "print (y_train.shape)\n",
    "print (y_validate.shape)"
   ]
  },
  {
   "cell_type": "code",
   "execution_count": 11,
   "metadata": {
    "collapsed": false
   },
   "outputs": [
    {
     "name": "stdout",
     "output_type": "stream",
     "text": [
      "Training set (67424, 21) (67424, 2)\n",
      "Validation set (19263, 21) (19263, 2)\n",
      "Test set (9631, 21) (9631, 2)\n"
     ]
    }
   ],
   "source": [
    "features = 21\n",
    "num_labels = 2\n",
    "\n",
    "def reformat(dataset, labels):\n",
    "  dataset = dataset.reshape((-1, features)).astype(np.float32)\n",
    "  # Map 2 to [0.0, 1.0, 0.0 ...], 3 to [0.0, 0.0, 1.0 ...]\n",
    "  labels = (np.arange(num_labels) == labels[:,None]).astype(np.float32)\n",
    "  return dataset, labels\n",
    "train_dataset, train_labels = reformat(x_train, y_train)\n",
    "valid_dataset, valid_labels = reformat(x_validate, y_validate)\n",
    "test_dataset, test_labels = reformat(x_test, y_test)\n",
    "print('Training set', train_dataset.shape, train_labels.shape)\n",
    "print('Validation set', valid_dataset.shape, valid_labels.shape)\n",
    "print('Test set', test_dataset.shape, test_labels.shape)"
   ]
  },
  {
   "cell_type": "code",
   "execution_count": 25,
   "metadata": {
    "collapsed": false
   },
   "outputs": [],
   "source": [
    "batch_size = 128\n",
    "\n",
    "graph = tf.Graph()\n",
    "with graph.as_default():\n",
    "\n",
    "  # Input data. For the training data, we use a placeholder that will be fed\n",
    "  # at run time with a training minibatch.\n",
    "  tf_train_dataset = tf.placeholder(tf.float32,\n",
    "                                    shape=(batch_size, features))\n",
    "  tf_train_labels = tf.placeholder(tf.float32, shape=(batch_size, num_labels))\n",
    "  tf_valid_dataset = tf.constant(valid_dataset)\n",
    "  tf_test_dataset = tf.constant(test_dataset)\n",
    "  \n",
    "  # Variables.\n",
    "def nn_layer(input_tensor, input_dim, output_dim, layer_name, act=tf.nn.relu):\n",
    "  \"\"\"Reusable code for making a simple neural net layer.\n",
    "\n",
    "  It does a matrix multiply, bias add, and then uses relu to nonlinearize.\n",
    "  It also sets up name scoping so that the resultant graph is easy to read,\n",
    "  and adds a number of summary ops.\n",
    "  \"\"\"\n",
    "  # Adding a name scope ensures logical grouping of the layers in the graph.\n",
    "  with tf.name_scope(layer_name):\n",
    "    # This Variable will hold the state of the weights for the layer\n",
    "    with tf.name_scope('weights'):\n",
    "      weights = weight_variable([input_dim, output_dim])\n",
    "      variable_summaries(weights, layer_name + '/weights')\n",
    "    with tf.name_scope('biases'):\n",
    "      biases = bias_variable([output_dim])\n",
    "      variable_summaries(biases, layer_name + '/biases')\n",
    "    with tf.name_scope('Wx_plus_b'):\n",
    "      preactivate = tf.matmul(input_tensor, weights) + biases\n",
    "      tf.histogram_summary(layer_name + '/pre_activations', preactivate)\n",
    "    activations = act(preactivate, 'activation')\n",
    "    tf.histogram_summary(layer_name + '/activations', activations)\n",
    "    return activations\n",
    "\n",
    "  hidden1 = tf.nn.relu(nn_layer(tf_train_dataset, 21, 1024, 'layer1'))\n",
    "\n",
    "\n",
    "  with tf.name_scope('dropout'):\n",
    "    keep_prob = tf.placeholder(tf.float32)\n",
    "    tf.scalar_summary('dropout_keep_probability', keep_prob)\n",
    "    dropped = tf.nn.dropout(hidden1, keep_prob)\n",
    "\n",
    "  logits = nn_layer(dropped, 1024, 2, 'layer2', act=tf.nn.softmax)\n",
    " \n",
    "  with tf.name_scope('cross_entropy'):\n",
    "    diff = tf_train_labels * tf.log(logits)\n",
    "    with tf.name_scope('total'):\n",
    "        cross_entropy = -tf.reduce_mean(diff)\n",
    "    tf.scalar_summary('cross entropy', cross_entropy) \n",
    "    \n",
    "  FLAGS.learning_rate = 0.5\n",
    "   # L2 regularization for the fully connected parameters.\n",
    "  #regularizers = (tf.nn.l2_loss(weights1) + tf.nn.l2_loss(biases1) +\n",
    "                  #tf.nn.l2_loss(weights2) + tf.nn.l2_loss(biases2))\n",
    "  # Add the regularization term to the loss.\n",
    "  #loss += 5e-4 * regularizers   \n",
    "    \n",
    "  with tf.name_scope('train'):\n",
    "      train_prediction = tf.train.GradientDescentOptimizer(FLAGS.learning_rate).minimize(\n",
    "          cross_entropy)\n",
    "    \n",
    "  with tf.name_scope('accuracy'):\n",
    "      with tf.name_scope('correct_prediction'):\n",
    "        correct_prediction = tf.equal(tf.argmax(train_prediction, 1), tf.argmax(train_labels, 1))\n",
    "      with tf.name_scope('accuracy'):\n",
    "        accuracy = tf.reduce_mean(tf.cast(correct_prediction, tf.float32))\n",
    "      tf.scalar_summary('accuracy', accuracy)\n",
    "  \n",
    "    # Merge all the summaries and write them out to /tmp/mnist_logs (by default)\n",
    "  merged = tf.merge_all_summaries()\n",
    "  train_writer = tf.train.SummaryWriter(FLAGS.summaries_dir + '/train',\n",
    "                                          session.graph)\n",
    "    # test_writer = tf.train.SummaryWriter(FLAGS.summaries_dir + '/test')\n",
    "\n",
    "  # Predictions for the training, validation, and test data.\n",
    "\n",
    "  valid_prediction = nn_layer(tf.nn.relu(nn_layer(tf_valid_dataset, 21, 1024, 'layer1'))\n",
    "                              , 1024, 2, 'layer2', act=tf.nn.softmax)\n",
    "  test_prediction = nn_layer(tf.nn.relu(nn_layer(tf_test_dataset, 21, 1024, 'layer1'))\n",
    "                              , 1024, 2, 'layer2', act=tf.nn.softmax)"
   ]
  },
  {
   "cell_type": "code",
   "execution_count": 16,
   "metadata": {
    "collapsed": false
   },
   "outputs": [],
   "source": [
    "def accuracy(predictions, labels):\n",
    "  acc = (100.0 * np.sum(np.argmax(predictions, 1) == np.argmax(labels, 1)) / predictions.shape[0])\n",
    "  return acc"
   ]
  },
  {
   "cell_type": "code",
   "execution_count": 27,
   "metadata": {
    "collapsed": false
   },
   "outputs": [
    {
     "name": "stdout",
     "output_type": "stream",
     "text": [
      "Initialized\n"
     ]
    },
    {
     "ename": "NameError",
     "evalue": "name 'keep_prob' is not defined",
     "output_type": "error",
     "traceback": [
      "\u001b[1;31m---------------------------------------------------------------------------\u001b[0m",
      "\u001b[1;31mNameError\u001b[0m                                 Traceback (most recent call last)",
      "\u001b[1;32m<ipython-input-27-999b12f97397>\u001b[0m in \u001b[0;36m<module>\u001b[1;34m()\u001b[0m\n\u001b[0;32m     14\u001b[0m     \u001b[1;31m# The key of the dictionary is the placeholder node of the graph to be fed,\u001b[0m\u001b[1;33m\u001b[0m\u001b[1;33m\u001b[0m\u001b[0m\n\u001b[0;32m     15\u001b[0m     \u001b[1;31m# and the value is the numpy array to feed to it.\u001b[0m\u001b[1;33m\u001b[0m\u001b[1;33m\u001b[0m\u001b[0m\n\u001b[1;32m---> 16\u001b[1;33m     \u001b[0mfeed_dict\u001b[0m \u001b[1;33m=\u001b[0m \u001b[1;33m{\u001b[0m\u001b[0mtf_train_dataset\u001b[0m \u001b[1;33m:\u001b[0m \u001b[0mbatch_data\u001b[0m\u001b[1;33m,\u001b[0m \u001b[0mtf_train_labels\u001b[0m \u001b[1;33m:\u001b[0m \u001b[0mbatch_labels\u001b[0m\u001b[1;33m,\u001b[0m \u001b[0mkeep_prob\u001b[0m\u001b[1;33m:\u001b[0m \u001b[1;36m0.3\u001b[0m \u001b[1;33m}\u001b[0m\u001b[1;33m\u001b[0m\u001b[0m\n\u001b[0m\u001b[0;32m     17\u001b[0m     summary, _, l, predictions = session.run(\n\u001b[0;32m     18\u001b[0m       [merged, optimizer, loss, train_prediction], feed_dict=feed_dict)\n",
      "\u001b[1;31mNameError\u001b[0m: name 'keep_prob' is not defined"
     ]
    }
   ],
   "source": [
    "num_steps = 301\n",
    "\n",
    "with tf.Session(graph=graph) as session:\n",
    "  tf.initialize_all_variables().run()\n",
    "  print(\"Initialized\")\n",
    "  for step in range(num_steps):\n",
    "    # Pick an offset within the training data, which has been randomized.\n",
    "    # Note: we could use better randomization across epochs.\n",
    "    offset = (step * batch_size) % (train_labels.shape[0] - batch_size)\n",
    "    # Generate a minibatch.\n",
    "    batch_data = train_dataset[offset:(offset + batch_size), :]\n",
    "    batch_labels = train_labels[offset:(offset + batch_size), :]\n",
    "    # Prepare a dictionary telling the session where to feed the minibatch.\n",
    "    # The key of the dictionary is the placeholder node of the graph to be fed,\n",
    "    # and the value is the numpy array to feed to it.\n",
    "    feed_dict = {tf_train_dataset : batch_data, tf_train_labels : batch_labels, keep_prob: 0.3 }\n",
    "    summary, _, l, predictions = session.run(\n",
    "      [merged, optimizer, loss, train_prediction], feed_dict=feed_dict)\n",
    "    train_writer.add_summary(summary, step)\n",
    "    if (step % 10 == 0):\n",
    "      print(\"Minibatch loss at step %d: %f\" % (step, l))\n",
    "      print(\"Minibatch accuracy: %.1f%%\" % accuracy(predictions, batch_labels))\n",
    "      print(\"Validation accuracy: %.1f%%\" % accuracy(\n",
    "         valid_prediction.eval(), valid_labels))\n",
    "  print(\"Test accuracy: %.1f%%\" % accuracy(test_prediction.eval(), test_labels))"
   ]
  },
  {
   "cell_type": "code",
   "execution_count": null,
   "metadata": {
    "collapsed": true
   },
   "outputs": [],
   "source": []
  }
 ],
 "metadata": {
  "kernelspec": {
   "display_name": "Python 3",
   "language": "python",
   "name": "python3"
  },
  "language_info": {
   "codemirror_mode": {
    "name": "ipython",
    "version": 3
   },
   "file_extension": ".py",
   "mimetype": "text/x-python",
   "name": "python",
   "nbconvert_exporter": "python",
   "pygments_lexer": "ipython3",
   "version": "3.4.3"
  }
 },
 "nbformat": 4,
 "nbformat_minor": 0
}
