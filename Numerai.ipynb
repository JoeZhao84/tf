{
 "cells": [
  {
   "cell_type": "code",
   "execution_count": 2,
   "metadata": {
    "collapsed": true
   },
   "outputs": [],
   "source": [
    "from __future__ import print_function\n",
    "import numpy as np\n",
    "import tensorflow as tf\n",
    "import csv\n",
    "\n",
    "\n"
   ]
  },
  {
   "cell_type": "code",
   "execution_count": 96,
   "metadata": {
    "collapsed": false
   },
   "outputs": [
    {
     "name": "stdout",
     "output_type": "stream",
     "text": [
      "[['feature1', 'feature2', 'feature3', 'feature4', 'feature5', 'feature6', 'feature7', 'feature8', 'feature9', 'feature10', 'feature11', 'feature12', 'feature13', 'feature14', 'feature15', 'feature16', 'feature17', 'feature18', 'feature19', 'feature20', 'feature21', 'target'], ['0.943745447280042', '0.401440492760393', '0.0524591961080846', '0.251755752856205', '0.599198006133435', '0.433078735492905', '0.154291986680751', '0.92162389945005', '0.0896378616524796', '0.117733463237376', '0.250726083709401', '0.0780808964926594', '0.823646376733102', '0.196164109166281', '0.712755076070547', '0.867629792388402', '0.409075454411293', '0.307076282705858', '0.949682259112273', '0.607615748394229', '0.41754724196422', '1']]\n"
     ]
    }
   ],
   "source": [
    "csv_file = 'numerai_training_data.csv'\n",
    "\n",
    "\n",
    "with open(csv_file, 'r') as f:\n",
    "  save = csv.reader(f, delimiter = ',')\n",
    "  raw_data = list(save)\n",
    "print (raw_data[:2])"
   ]
  },
  {
   "cell_type": "code",
   "execution_count": 97,
   "metadata": {
    "collapsed": false
   },
   "outputs": [
    {
     "name": "stdout",
     "output_type": "stream",
     "text": [
      "[['0.9437454473' '0.4014404928' '0.0524591961' '0.2517557529'\n",
      "  '0.5991980061' '0.4330787355' '0.1542919867' '0.9216238995'\n",
      "  '0.0896378617' '0.1177334632' '0.2507260837' '0.0780808965'\n",
      "  '0.8236463767' '0.1961641092' '0.7127550761' '0.8676297924'\n",
      "  '0.4090754544' '0.3070762827' '0.9496822591' '0.6076157484' '0.417547242'\n",
      "  '1']\n",
      " ['0.9291754209' '0.8632704307' '0.9053059674' '0.6987165571'\n",
      "  '0.4165031513' '0.7700837889' '0.6261877255' '0.7382251254'\n",
      "  '0.5686345357' '0.6759885132' '0.8072406497' '0.7002876098'\n",
      "  '0.8101027239' '0.7843144766' '0.6149787032' '0.5986603421'\n",
      "  '0.3146251866' '0.9773152008' '0.7116968494' '0.3046933619'\n",
      "  '0.7682498921' '0']]\n",
      "[['0.943745447280042' '0.401440492760393' '0.0524591961080846'\n",
      "  '0.251755752856205' '0.599198006133435' '0.433078735492905'\n",
      "  '0.154291986680751' '0.92162389945005' '0.0896378616524796'\n",
      "  '0.117733463237376' '0.250726083709401' '0.0780808964926594'\n",
      "  '0.823646376733102' '0.196164109166281' '0.712755076070547'\n",
      "  '0.867629792388402' '0.409075454411293' '0.307076282705858'\n",
      "  '0.949682259112273' '0.607615748394229' '0.41754724196422']\n",
      " ['0.929175420930546' '0.863270430663643' '0.905305967406711'\n",
      "  '0.698716557139708' '0.416503151341583' '0.770083788853883'\n",
      "  '0.626187725493307' '0.738225125354333' '0.568634535735404'\n",
      "  '0.675988513231958' '0.807240649717194' '0.700287609753836'\n",
      "  '0.810102723879884' '0.784314476627852' '0.614978703187966'\n",
      "  '0.598660342127264' '0.314625186603813' '0.977315200841722'\n",
      "  '0.711696849396431' '0.304693361949859' '0.768249892077801']]\n",
      "['1' '0' '0' '0' '0' '0' '0' '0' '1' '1' '1' '1']\n",
      "[2 1 1 1 1 1 1 1 2 2 2 2]\n",
      "(96320, 21)\n",
      "(96320,)\n"
     ]
    }
   ],
   "source": [
    "data = np.delete(raw_data, (0), axis=0)\n",
    "print (x[:2])\n",
    "x = np.delete(data, (-1), axis=1)\n",
    "# x2 = list(map(int, x1))\n",
    "print (x[:2])\n",
    "y= data[:,-1]\n",
    "print (y[:12])\n",
    "y1 = list(map(int, y))\n",
    "y1[:] = [n + 1 for n in y1]\n",
    "y = np.array(y1)\n",
    "\n",
    "print (y[:12])\n",
    "print (x.shape)\n",
    "print (y.shape)\n"
   ]
  },
  {
   "cell_type": "code",
   "execution_count": 114,
   "metadata": {
    "collapsed": false
   },
   "outputs": [
    {
     "name": "stdout",
     "output_type": "stream",
     "text": [
      "(67424, 21)\n",
      "(19263, 21)\n",
      "(67424,)\n",
      "(19263,)\n"
     ]
    }
   ],
   "source": [
    "x_train = x[:int(x.shape[0] * 0.7)]\n",
    "x_validate = x[int(x.shape[0] * 0.7) + 1: int(x.shape[0] * 0.9)]\n",
    "x_test = x[int(x.shape[0] * 0.9) + 1:]\n",
    "print (x_train.shape)\n",
    "print (x_validate.shape)\n",
    "\n",
    "y_train = y[:int(y.shape[0] * 0.7)]\n",
    "y_validate = y[int(y.shape[0] * 0.7) + 1: int(y.shape[0] * 0.9)]\n",
    "y_test = y[int(y.shape[0] * 0.9) + 1:]\n",
    "print (y_train.shape)\n",
    "print (y_validate.shape)"
   ]
  },
  {
   "cell_type": "code",
   "execution_count": 143,
   "metadata": {
    "collapsed": false
   },
   "outputs": [
    {
     "name": "stdout",
     "output_type": "stream",
     "text": [
      "Training set (67424, 21) (67424, 2)\n",
      "Validation set (19263, 21) (19263, 2)\n",
      "Test set (9631, 21) (9631, 2)\n"
     ]
    }
   ],
   "source": [
    "features = 21\n",
    "num_labels = 2\n",
    "\n",
    "def reformat(dataset, labels):\n",
    "  dataset = dataset.reshape((-1, features)).astype(np.float32)\n",
    "  # Map 2 to [0.0, 1.0, 0.0 ...], 3 to [0.0, 0.0, 1.0 ...]\n",
    "  labels = (np.arange(num_labels) == labels[:,None]).astype(np.float32)\n",
    "  return dataset, labels\n",
    "train_dataset, train_labels = reformat(x_train, y_train)\n",
    "valid_dataset, valid_labels = reformat(x_validate, y_validate)\n",
    "test_dataset, test_labels = reformat(x_test, y_test)\n",
    "print('Training set', train_dataset.shape, train_labels.shape)\n",
    "print('Validation set', valid_dataset.shape, valid_labels.shape)\n",
    "print('Test set', test_dataset.shape, test_labels.shape)"
   ]
  },
  {
   "cell_type": "code",
   "execution_count": 156,
   "metadata": {
    "collapsed": false
   },
   "outputs": [],
   "source": [
    "batch_size = 128\n",
    "\n",
    "graph = tf.Graph()\n",
    "with graph.as_default():\n",
    "\n",
    "  # Input data. For the training data, we use a placeholder that will be fed\n",
    "  # at run time with a training minibatch.\n",
    "  tf_train_dataset = tf.placeholder(tf.float32,\n",
    "                                    shape=(batch_size, features))\n",
    "  tf_train_labels = tf.placeholder(tf.float32, shape=(batch_size, num_labels))\n",
    "  tf_valid_dataset = tf.constant(valid_dataset)\n",
    "  tf_test_dataset = tf.constant(test_dataset)\n",
    "  \n",
    "   # Variables.\n",
    "  weights1 = tf.Variable(\n",
    "    tf.truncated_normal([features, 1024]))\n",
    "  biases1 = tf.Variable(tf.zeros([1024]))\n",
    "  \n",
    "  weights2 = tf.Variable(\n",
    "    tf.truncated_normal([1024, num_labels]))\n",
    "  biases2 = tf.Variable(tf.zeros([num_labels]))\n",
    "\n",
    "  hidden1 = tf.nn.relu(tf.matmul(tf_train_dataset, weights1) + biases1)\n",
    " \n",
    "  keep_prob = tf.placeholder(tf.float32)\n",
    "  hidden1_drop = tf.nn.dropout(hidden1, keep_prob)  \n",
    "  \n",
    " # Training computation.\n",
    "  logits = tf.matmul(hidden1_drop, weights2) + biases2\n",
    "  loss = tf.reduce_mean(\n",
    "    tf.nn.softmax_cross_entropy_with_logits(logits, tf_train_labels)) + 5e-4 * tf.nn.l2_loss(weights2) + 5e-4 * tf.nn.l2_loss(weights1)\n",
    "  \n",
    "  # Optimizer.\n",
    "  optimizer = tf.train.GradientDescentOptimizer(0.5).minimize(loss)\n",
    "  \n",
    "  # Predictions for the training, validation, and test data.\n",
    "  train_prediction = tf.nn.softmax(logits)\n",
    "  valid_prediction = tf.nn.softmax(\n",
    "    tf.matmul(tf.nn.relu(tf.matmul(tf_valid_dataset, weights1) + biases1), weights2) + biases2)\n",
    "  test_prediction = tf.nn.softmax(tf.matmul(tf.nn.relu(tf.matmul(tf_test_dataset, weights1) + biases1), weights2) + biases2)"
   ]
  },
  {
   "cell_type": "code",
   "execution_count": 120,
   "metadata": {
    "collapsed": true
   },
   "outputs": [],
   "source": [
    "def accuracy(predictions, labels):\n",
    "  return (100.0 * np.sum(np.argmax(predictions, 1) == np.argmax(labels, 1))\n",
    "          / predictions.shape[0])"
   ]
  },
  {
   "cell_type": "code",
   "execution_count": 155,
   "metadata": {
    "collapsed": false
   },
   "outputs": [
    {
     "name": "stdout",
     "output_type": "stream",
     "text": [
      "Initialized\n",
      "Minibatch loss at step 0: 58.402054\n",
      "Minibatch accuracy: 43.8%\n",
      "Validation accuracy: 49.4%\n",
      "Minibatch loss at step 500: nan\n",
      "Minibatch accuracy: 52.3%\n",
      "Validation accuracy: 50.6%\n",
      "Minibatch loss at step 1000: nan\n",
      "Minibatch accuracy: 46.1%\n",
      "Validation accuracy: 50.6%\n",
      "Minibatch loss at step 1500: nan\n",
      "Minibatch accuracy: 50.0%\n",
      "Validation accuracy: 50.6%\n",
      "Minibatch loss at step 2000: nan\n",
      "Minibatch accuracy: 55.5%\n",
      "Validation accuracy: 50.6%\n",
      "Minibatch loss at step 2500: nan\n",
      "Minibatch accuracy: 53.9%\n",
      "Validation accuracy: 50.6%\n",
      "Minibatch loss at step 3000: nan\n",
      "Minibatch accuracy: 46.9%\n",
      "Validation accuracy: 50.6%\n",
      "Test accuracy: 51.3%\n"
     ]
    }
   ],
   "source": [
    "num_steps = 3001\n",
    "\n",
    "with tf.Session(graph=graph) as session:\n",
    "  tf.initialize_all_variables().run()\n",
    "  print(\"Initialized\")\n",
    "  for step in range(num_steps):\n",
    "    # Pick an offset within the training data, which has been randomized.\n",
    "    # Note: we could use better randomization across epochs.\n",
    "    offset = (step * batch_size) % (train_labels.shape[0] - batch_size)\n",
    "    # Generate a minibatch.\n",
    "    batch_data = train_dataset[offset:(offset + batch_size), :]\n",
    "    batch_labels = train_labels[offset:(offset + batch_size), :]\n",
    "    # Prepare a dictionary telling the session where to feed the minibatch.\n",
    "    # The key of the dictionary is the placeholder node of the graph to be fed,\n",
    "    # and the value is the numpy array to feed to it.\n",
    "    feed_dict = {tf_train_dataset : batch_data, tf_train_labels : batch_labels, keep_prob: 0.3 }\n",
    "    _, l, predictions = session.run(\n",
    "      [optimizer, loss, train_prediction], feed_dict=feed_dict)\n",
    "    if (step % 500 == 0):\n",
    "      print(\"Minibatch loss at step %d: %f\" % (step, l))\n",
    "      print(\"Minibatch accuracy: %.1f%%\" % accuracy(predictions, batch_labels))\n",
    "      print(\"Validation accuracy: %.1f%%\" % accuracy(\n",
    "         valid_prediction.eval(), valid_labels))\n",
    "  print(\"Test accuracy: %.1f%%\" % accuracy(test_prediction.eval(), test_labels))"
   ]
  }
 ],
 "metadata": {
  "kernelspec": {
   "display_name": "Python 3",
   "language": "python",
   "name": "python3"
  },
  "language_info": {
   "codemirror_mode": {
    "name": "ipython",
    "version": 3
   },
   "file_extension": ".py",
   "mimetype": "text/x-python",
   "name": "python",
   "nbconvert_exporter": "python",
   "pygments_lexer": "ipython3",
   "version": "3.4.3"
  }
 },
 "nbformat": 4,
 "nbformat_minor": 0
}
